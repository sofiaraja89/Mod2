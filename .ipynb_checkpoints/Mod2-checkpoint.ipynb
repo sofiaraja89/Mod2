{
 "cells": [
  {
   "cell_type": "markdown",
   "id": "5987a2f3",
   "metadata": {},
   "source": [
    "### Exercise 1 \n",
    "\n",
    "In mathematics, the quadratic equation ax2+bx+c=0 can be solved with the formula x=−b±b2−4ac√2a.\n",
    "\n",
    "Write a function solve_quadratic, that returns both solutions of a generic quadratic as a pair (2-tuple) when the coefficients are given as parameters. It should work like this:\n",
    "\n",
    "print(solve_quadratic(1,-3,2))\n",
    "(2.0,1.0)\n",
    "print(solve_quadratic(1,2,1))\n",
    "(-1.0,-1.0)"
   ]
  },
  {
   "cell_type": "code",
   "execution_count": 16,
   "id": "74f1fca0",
   "metadata": {},
   "outputs": [
    {
     "name": "stdout",
     "output_type": "stream",
     "text": [
      "Enter a number for a:1\n",
      "Enter a number for b:2\n",
      "Enter a number for c:5\n",
      "The answer is (-1+2j) and (-1-2j)\n"
     ]
    }
   ],
   "source": [
    "#ax^2+bx+c=0\n",
    "\n",
    "#import cmath #complex math function \n",
    "\n",
    "a = int(input(\"Enter a number for a:\"))\n",
    "b = int(input(\"Enter a number for b:\"))\n",
    "c = int(input(\"Enter a number for c:\"))\n",
    "\n",
    "#calculate discriminant(its what inside the square root)\n",
    "dis = (b**2) - (4*a*c)\n",
    "#if b^2 < 4ac\n",
    "\n",
    "\n",
    "\n",
    "#calculate formula \n",
    "answer1=(-b + cmath.sqrt(dis)) / (2*a)#top of the equation \n",
    "answer2=(-b - cmath.sqrt(dis)) / (2*a)\n",
    "\n",
    "print(\"The answer is {} and {}\".format(answer1,answer2))\n",
    "\n",
    "\n",
    "\n"
   ]
  },
  {
   "cell_type": "markdown",
   "id": "9fcdb07c",
   "metadata": {},
   "source": [
    "### Exercise 2\n",
    "\n",
    "Get a space-separated list of integers from the user, create a tuple of those integers. Then compute and print the result of hash(tuple)."
   ]
  },
  {
   "cell_type": "code",
   "execution_count": 25,
   "id": "e5de6bc6",
   "metadata": {},
   "outputs": [
    {
     "name": "stdout",
     "output_type": "stream",
     "text": [
      "10\n",
      "10\n",
      "6909455589863252355\n"
     ]
    }
   ],
   "source": [
    "first_number = int(input()) #enter first number \n",
    "second_number=input() #enter second number \n",
    "make_tuple = tuple(map(int, b.split(' '))) #create tuple of the numbers entered\n",
    "print(hash(a)) #print the result of the hash(tuple)"
   ]
  },
  {
   "cell_type": "markdown",
   "id": "97b69a45",
   "metadata": {},
   "source": [
    "### Exercise 3\n",
    "\n",
    "Take the following two lists. Create a third list by picking a odd-index elements from the first list and even-index elements from the second.\n",
    "\n",
    "listOne = [3, 6, 9, 12, 15, 18, 21]\n",
    "listTwo = [4, 8, 12, 16, 20, 24, 28]"
   ]
  },
  {
   "cell_type": "code",
   "execution_count": 39,
   "id": "479a2c22",
   "metadata": {},
   "outputs": [
    {
     "name": "stdout",
     "output_type": "stream",
     "text": [
      "Odd-Index Elements From List One\n",
      "[6, 12, 18]\n",
      "Even-Index Elements From List Two\n",
      "[4, 12, 20, 28]\n",
      "ListThree\n",
      "[6, 12, 18, 4, 12, 20, 28]\n"
     ]
    }
   ],
   "source": [
    "listOne=[3, 6, 9, 12, 15, 18, 21]\n",
    "listTwo=[4, 8, 12, 16, 20, 24, 28]\n",
    "listThree= list()\n",
    "\n",
    "odd_index_elements=listOne[1::2] #retrieve odd numbers from listOne, start, stop, step\n",
    "print(\"Odd-Index Elements From List One\")\n",
    "print(odd_index_elements)\n",
    "\n",
    "even_index_elements=listTwo[0::2] #retrive even numbers from listTwo\n",
    "print(\"Even-Index Elements From List Two\")\n",
    "print(even_index_elements)\n",
    "\n",
    "print(\"ListThree\")\n",
    "listThree.extend(odd_index_elements)\n",
    "listThree.extend(even_index_elements)\n",
    "print(listThree) #print newly made listThree\n"
   ]
  },
  {
   "cell_type": "markdown",
   "id": "8df04972",
   "metadata": {},
   "source": [
    "### Exercise 4\n",
    "\n",
    "Take the following list. Slice it into three equal chunks and reverse each list.\n",
    "\n",
    "sampleList = [11, 45, 8, 23, 14, 12, 78, 45, 89]"
   ]
  },
  {
   "cell_type": "code",
   "execution_count": 50,
   "id": "3f09c322",
   "metadata": {},
   "outputs": [
    {
     "name": "stdout",
     "output_type": "stream",
     "text": [
      "Main List [11, 45, 8, 23, 14, 12, 78, 45, 89]\n",
      "Chunk 0 [11, 45, 8]\n",
      "Reversed 0 [8, 45, 11]\n",
      "Chunk 1 [23, 14, 12]\n",
      "Reversed 1 [12, 14, 23]\n",
      "Chunk 2 [78, 45, 89]\n",
      "Reversed 2 [89, 45, 78]\n"
     ]
    }
   ],
   "source": [
    "sampleList = [11, 45, 8, 23, 14, 12, 78, 45, 89]\n",
    "print(\"Main List\", sampleList)\n",
    "\n",
    "list_length=len(sampleList) #length of the list \n",
    "chunk=int(list_length /3) #setting chunk size\n",
    "start=0 #where to begin\n",
    "end=chunk #where to end \n",
    "\n",
    "for x in range(3): #run it three times, 3 chunks\n",
    "    #indexes \n",
    "    index_numbers=slice(start,end)\n",
    "    \n",
    "    chunk_list=sampleList[index_numbers] #chunk\n",
    "    print(\"Chunk\", x, chunk_list)\n",
    "    \n",
    "    print(\"Reversed\", x, list(reversed(chunk_list))) #reversed \n",
    "    \n",
    "    start=end #begin\n",
    "    end+=chunk #end\n",
    "\n"
   ]
  },
  {
   "cell_type": "markdown",
   "id": "bde70bb2",
   "metadata": {},
   "source": [
    "### Exercise 5\n",
    "\n",
    "Iterate through a given list and check if a given element already exists in a dictionary as a key’s value. If not, delete it from the list.\n",
    "\n",
    "rollNumber = [47, 64, 69, 37, 76, 83, 95, 97]\n",
    "sampleDict ={'Zach':47, 'Emma':69, 'Kelly':76, 'Jason':97}"
   ]
  },
  {
   "cell_type": "code",
   "execution_count": null,
   "id": "66bfd5a9",
   "metadata": {},
   "outputs": [],
   "source": []
  }
 ],
 "metadata": {
  "kernelspec": {
   "display_name": "Python 3 (ipykernel)",
   "language": "python",
   "name": "python3"
  },
  "language_info": {
   "codemirror_mode": {
    "name": "ipython",
    "version": 3
   },
   "file_extension": ".py",
   "mimetype": "text/x-python",
   "name": "python",
   "nbconvert_exporter": "python",
   "pygments_lexer": "ipython3",
   "version": "3.9.12"
  }
 },
 "nbformat": 4,
 "nbformat_minor": 5
}
