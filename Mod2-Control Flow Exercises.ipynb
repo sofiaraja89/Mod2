{
 "cells": [
  {
   "cell_type": "markdown",
   "id": "9d686f50",
   "metadata": {},
   "source": [
    "### Exercise 1\n",
    "\n",
    "Guess a number between 1 to 9 given by the user"
   ]
  },
  {
   "cell_type": "code",
   "execution_count": 9,
   "id": "5bee8195",
   "metadata": {},
   "outputs": [
    {
     "name": "stdout",
     "output_type": "stream",
     "text": [
      "Guess a number from 1 to 9, till you guess the right : 8\n",
      "Guess a number from 1 to 9, till you guess the right : 7\n",
      "Guess a number from 1 to 9, till you guess the right : 6\n",
      "Guess a number from 1 to 9, till you guess the right : 5\n",
      "Guess a number from 1 to 9, till you guess the right : 4\n",
      "Guess a number from 1 to 9, till you guess the right : 3\n",
      "Guess a number from 1 to 9, till you guess the right : 2\n",
      "Correct!\n"
     ]
    }
   ],
   "source": [
    "import random #generates a random number\n",
    "needed_number, guess = random.randint(1, 10), 0 #range for numbers 1-9, its 1-10 so that number 9 is included and 10 is excluded\n",
    "while needed_number != guess:\n",
    "    guess = int(input(\"Guess a number from 1 to 9, till you guess the right : \"))\n",
    "print(\"Correct!\")"
   ]
  },
  {
   "cell_type": "markdown",
   "id": "9881a6c2",
   "metadata": {},
   "source": [
    "### Exercise 2\n",
    "\n",
    "Check the validity of password input by the user.\n",
    "\n",
    "Validation:\n",
    "\n",
    "    At least 1 letter between [a-z] and 1 letter between [A-Z]\n",
    "    At least 1 number between [0-9]\n",
    "    At least 1 character from [$#@]\n",
    "    Minimum length 6 characters\n",
    "    Maximum length 16 characters"
   ]
  },
  {
   "cell_type": "code",
   "execution_count": 7,
   "id": "57d1ab47",
   "metadata": {},
   "outputs": [
    {
     "name": "stdout",
     "output_type": "stream",
     "text": [
      "Create a password :sofia!\n",
      "Not a Valid Password\n"
     ]
    }
   ],
   "source": [
    "import re #regular expressions\n",
    "password_entered= input(\"Create a password :\") #user enter's password\n",
    "password = True\n",
    "while password:  \n",
    "    if (len(password_entered)<6 or len(password_entered)>12): #if and elif statements go through password requirements\n",
    "        break #stops and then moves on to next requirement \n",
    "    elif not re.search(\"[a-z]\",password_entered):\n",
    "        break\n",
    "    elif not re.search(\"[0-9]\",password_entered):\n",
    "        break\n",
    "    elif not re.search(\"[A-Z]\",password_entered):\n",
    "        break\n",
    "    elif not re.search(\"[$#@]\",password_entered):\n",
    "        break\n",
    "    elif re.search(\"\\s\",password_entered):\n",
    "        break\n",
    "    else:\n",
    "        print(\"Valid Password\") #password meets all requirements\n",
    "        password=False\n",
    "        break\n",
    "\n",
    "if password:\n",
    "    print(\"Not a Valid Password\") #password does not meet all requirements \n"
   ]
  },
  {
   "cell_type": "markdown",
   "id": "afbce5d9",
   "metadata": {},
   "source": [
    "### Exercise 3\n",
    "\n",
    "Get input of the age of 3 people by user and determine oldest and youngest among them"
   ]
  },
  {
   "cell_type": "code",
   "execution_count": 13,
   "id": "7a566ce7",
   "metadata": {},
   "outputs": [
    {
     "name": "stdout",
     "output_type": "stream",
     "text": [
      "Enter the age of user number one: 21\n",
      "Enter the age of user number two: 20\n",
      "Enter the age of user number three: 44\n",
      "User number three is the oldest\n",
      "User number two is the youngest\n"
     ]
    }
   ],
   "source": [
    "age_one=int(input(\"Enter the age of user number one: \"))#setting user input for all three users\n",
    "age_two=int(input(\"Enter the age of user number two: \"))\n",
    "age_three=int(input(\"Enter the age of user number three: \"))\n",
    "\n",
    "if age_one>age_two and age_one>age_three: #if and elif statements to meet requirements based on users' ages\n",
    "    print(\"User number one is the oldest\")\n",
    "\n",
    "elif age_two>age_one and age_two>age_three:\n",
    "    print(\"User number two is the oldest\")\n",
    "else:\n",
    "    print(\"User number three is the oldest\")\n",
    "\n",
    "if age_one<age_two and age_one<age_three:\n",
    "    print(\"User number one is the youngest\")\n",
    "\n",
    "elif age_two<age_one and age_two<age_three:\n",
    "    print(\"User number two is the youngest\")\n",
    "else:\n",
    "     print(\"User number three is the youngest\")\n"
   ]
  },
  {
   "cell_type": "markdown",
   "id": "5a813822",
   "metadata": {},
   "source": [
    "### Exercise 4\n",
    "\n",
    "A student will not be allowed to sit in exam if his/her attendance is less than 75%.\n",
    "\n",
    "Take following input from user\n",
    "\n",
    "    Number of classes held\n",
    "    Number of classes attended.\n",
    "    And print\n",
    "    percentage of class attended\n",
    "\n",
    "Is student is allowed to sit in exam or not?"
   ]
  },
  {
   "cell_type": "code",
   "execution_count": 15,
   "id": "f58f9c4f",
   "metadata": {},
   "outputs": [
    {
     "name": "stdout",
     "output_type": "stream",
     "text": [
      "Enter the total number of classes held: 100\n",
      "Enter the total number of classes you've attended: 80\n",
      "Your attendance percentage is 80%\n",
      "You are allowed to sit in for the exam\n"
     ]
    }
   ],
   "source": [
    "\n",
    "number_of_classes = int(input(\"Enter the total number of classes held: \")) #user enters info\n",
    "classes_attended = int(input(\"Enter the total number of classes you've attended: \"))\n",
    "\n",
    "percentage_attended = int((classes_attended/number_of_classes)*100)#percentage is calculated by divived classes attend by \n",
    "#number of class x 100(100%)\n",
    "\n",
    "print(\"Your attendance percentage is {}%\".format(percentage_attended))#answer to percentage calculation \n",
    "#checking whether attendance is less than 75 display attend exa\n",
    "if percentage_attended >= 75: #if percentage attended is higher or equal to 75, user is allowed to sit in exam\n",
    "    print(\"You are allowed to sit in for the exam\")\n",
    "\n",
    "else:\n",
    "    print(\"You are not allowed to sit in for the exam\")#if statement = false, user isnt allowed to sit in exam"
   ]
  },
  {
   "cell_type": "markdown",
   "id": "4fc2b7b0",
   "metadata": {},
   "source": [
    "### Exercise 5\n",
    "\n",
    "Get an integer N from the user and perform the following actions:\n",
    "\n",
    "    if N is odd, print \"weird\"\n",
    "    if N is even and in the inclusive range of 2 to 5, print \"Not Weird\"\n",
    "    if N is even and in the inclusive range of 6 to 20, print \"Weird\"\n",
    "    if N is even and greater than 20, print \"Not Weird\""
   ]
  },
  {
   "cell_type": "code",
   "execution_count": 21,
   "id": "22574cb5",
   "metadata": {},
   "outputs": [
    {
     "name": "stdout",
     "output_type": "stream",
     "text": [
      "Enter a number: 3\n",
      "Weird\n"
     ]
    }
   ],
   "source": [
    "\n",
    "\n",
    "n = int(input(\"Enter a number: \"))#user enters number\n",
    "if n % 2 == 1:#user enters odd number, %(modulus,remainder)\n",
    "    print(\"Weird\")\n",
    "elif n % 2 == 0 and 2 <= n <= 5:#if entered number is even and within the range of 2 to 5\n",
    "    print(\"Not Weird\")\n",
    "elif n % 2 == 0 and 6 <= n <= 20:#if entered number is inclusice in range of 6 to 20\n",
    "    print(\"Weird\")\n",
    "else:\n",
    "    print(\"Not Weird\")#if entered number is greater than 20\n",
    "\n"
   ]
  },
  {
   "cell_type": "code",
   "execution_count": null,
   "id": "ccbb49d8",
   "metadata": {},
   "outputs": [],
   "source": []
  },
  {
   "cell_type": "code",
   "execution_count": null,
   "id": "7cb236c1",
   "metadata": {},
   "outputs": [],
   "source": []
  }
 ],
 "metadata": {
  "kernelspec": {
   "display_name": "Python 3 (ipykernel)",
   "language": "python",
   "name": "python3"
  },
  "language_info": {
   "codemirror_mode": {
    "name": "ipython",
    "version": 3
   },
   "file_extension": ".py",
   "mimetype": "text/x-python",
   "name": "python",
   "nbconvert_exporter": "python",
   "pygments_lexer": "ipython3",
   "version": "3.9.12"
  }
 },
 "nbformat": 4,
 "nbformat_minor": 5
}
